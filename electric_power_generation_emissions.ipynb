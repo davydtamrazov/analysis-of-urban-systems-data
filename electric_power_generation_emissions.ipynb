{
 "cells": [
  {
   "cell_type": "markdown",
   "metadata": {},
   "source": [
    "## Introduction\n",
    "Emissions from the electric power generation significantly contribute to the reduced air quality in the industrialized areas, while also having a detrimental effect on the environment globally. The aim of this project is to perform exploratory data analysis focusing on the air contamination associated with electric power generation. \n",
    "\n",
    "The dataset used for this analysis contains characteristics and emission details of electric power plants in the US for 2010. As such, the following notebook aims to understand problematic areas in the plants’ performance and emission generation in order to identify areas where future emission reduction can be achieved."
   ]
  },
  {
   "cell_type": "markdown",
   "metadata": {},
   "source": [
    "## Dataset"
   ]
  },
  {
   "cell_type": "code",
   "execution_count": 1,
   "metadata": {},
   "outputs": [],
   "source": [
    "import pandas as pd\n",
    "import numpy as np\n",
    "import plotly.express as px\n",
    "import plotly.graph_objects as go\n",
    "from plotly.subplots import make_subplots"
   ]
  },
  {
   "cell_type": "code",
   "execution_count": 8,
   "metadata": {},
   "outputs": [
    {
     "name": "stdout",
     "output_type": "stream",
     "text": [
      "<class 'pandas.core.frame.DataFrame'>\n",
      "Int64Index: 5393 entries, 0 to 5392\n",
      "Data columns (total 38 columns):\n",
      " #   Column          Non-Null Count  Dtype  \n",
      "---  ------          --------------  -----  \n",
      " 0   ID              5393 non-null   int64  \n",
      " 1   State           5393 non-null   object \n",
      " 2   Name            5393 non-null   object \n",
      " 3   County          5393 non-null   object \n",
      " 4   Lat             5393 non-null   float64\n",
      " 5   Lon             5393 non-null   float64\n",
      " 6   Combust         5393 non-null   float64\n",
      " 7   Fuel            5364 non-null   object \n",
      " 8   FuelCat         5393 non-null   object \n",
      " 9   Capacity        5393 non-null   float64\n",
      " 10  HeatInput       5393 non-null   float64\n",
      " 11  NetGen          5393 non-null   float64\n",
      " 12  NOX             5393 non-null   float64\n",
      " 13  SO2             5393 non-null   float64\n",
      " 14  CO2             5393 non-null   float64\n",
      " 15  CoalGen         5393 non-null   float64\n",
      " 16  OilGen          5393 non-null   float64\n",
      " 17  GasGen          5393 non-null   float64\n",
      " 18  NuclearGen      5393 non-null   float64\n",
      " 19  HydroGen        5393 non-null   float64\n",
      " 20  BiomassGen      5393 non-null   float64\n",
      " 21  WindGen         5393 non-null   float64\n",
      " 22  SolarGen        5393 non-null   float64\n",
      " 23  GeoGen          5393 non-null   float64\n",
      " 24  OtherFossilGen  5393 non-null   float64\n",
      " 25  OtherGen        5393 non-null   float64\n",
      " 26  NonRenewGen     5393 non-null   float64\n",
      " 27  RenewGen        5393 non-null   float64\n",
      " 28  CombGen         5393 non-null   float64\n",
      " 29  NonCombGen      5393 non-null   float64\n",
      " 30  CoalPortion     5393 non-null   float64\n",
      " 31  CapFac          5393 non-null   float64\n",
      " 32  SO2OutRate      5393 non-null   float64\n",
      " 33  CO2OutRate      5393 non-null   float64\n",
      " 34  NOXOutRate      5393 non-null   float64\n",
      " 35  NOXInRate       3283 non-null   float64\n",
      " 36  CO2InRate       3305 non-null   float64\n",
      " 37  SO2InRate       3305 non-null   float64\n",
      "dtypes: float64(32), int64(1), object(5)\n",
      "memory usage: 1.6+ MB\n"
     ]
    }
   ],
   "source": [
    "# Load dataset and show info\n",
    "df= pd.read_csv('plants.csv', index_col=0)\n",
    "df.info()"
   ]
  },
  {
   "cell_type": "code",
   "execution_count": 9,
   "metadata": {},
   "outputs": [
    {
     "data": {
      "text/plain": [
       "Index(['ID', 'State', 'Name', 'County', 'Lat', 'Lon', 'Combust', 'Fuel',\n",
       "       'FuelCat', 'Capacity', 'HeatInput', 'NetGen', 'NOX', 'SO2', 'CO2',\n",
       "       'CoalGen', 'OilGen', 'GasGen', 'NuclearGen', 'HydroGen', 'BiomassGen',\n",
       "       'WindGen', 'SolarGen', 'GeoGen', 'OtherFossilGen', 'OtherGen',\n",
       "       'NonRenewGen', 'RenewGen', 'CombGen', 'NonCombGen', 'CoalPortion',\n",
       "       'CapFac', 'SO2OutRate', 'CO2OutRate', 'NOXOutRate', 'NOXInRate',\n",
       "       'CO2InRate', 'SO2InRate'],\n",
       "      dtype='object')"
      ]
     },
     "execution_count": 9,
     "metadata": {},
     "output_type": "execute_result"
    }
   ],
   "source": [
    "# List of all variables\n",
    "df.columns"
   ]
  },
  {
   "cell_type": "markdown",
   "metadata": {},
   "source": [
    "- The dataset used contains 5393 entries corresponding to the plants with non-zero generation and/or heat input characteristic. \n",
    "- Each entry contains a unique identification number, name, and geographical information of the plant as well as information related to plants performance. \n",
    "- The key variables from the latter can be described with three categories: \n",
    "  - Energy resources,\n",
    "  - Energy generation, \n",
    "  - Emissions.\n",
    "\n",
    "**_Energy resources:_**"
   ]
  },
  {
   "cell_type": "markdown",
   "metadata": {},
   "source": [
    "| Variable name | Description |\n",
    "| :-- | :-- |\n",
    "| Plant Combustion Status | Takes the value of: <br> 1.0 for full combustion plants, <br> 0.5 for partially combustion plants (combustion power plant that contains non-combustion generators), and <br> 0.0 for non-combustion plants. |\n",
    "| Plant Primary Fuel Type | Identifies plant’s primary fuel type based on the maximum heat input as one of the 43 fuel types. |\n",
    "| Plant Primary Fuel Category | Categorizes the Plant Primary Fuel Type variable into Coal, Oil, Gas, Nuclear, Hydro, Biomass, <br> Wind, Solar, Geothermal, Other Fossil, and Other Unknown/Purchased/Waste (referred to as Other). |"
   ]
  },
  {
   "cell_type": "code",
   "execution_count": 16,
   "metadata": {},
   "outputs": [
    {
     "data": {
      "text/html": [
       "<div>\n",
       "<style scoped>\n",
       "    .dataframe tbody tr th:only-of-type {\n",
       "        vertical-align: middle;\n",
       "    }\n",
       "\n",
       "    .dataframe tbody tr th {\n",
       "        vertical-align: top;\n",
       "    }\n",
       "\n",
       "    .dataframe thead th {\n",
       "        text-align: right;\n",
       "    }\n",
       "</style>\n",
       "<table border=\"1\" class=\"dataframe\">\n",
       "  <thead>\n",
       "    <tr style=\"text-align: right;\">\n",
       "      <th></th>\n",
       "      <th>Combust</th>\n",
       "      <th>Fuel</th>\n",
       "      <th>FuelCat</th>\n",
       "    </tr>\n",
       "  </thead>\n",
       "  <tbody>\n",
       "    <tr>\n",
       "      <th>count</th>\n",
       "      <td>5393.0</td>\n",
       "      <td>5364</td>\n",
       "      <td>5393</td>\n",
       "    </tr>\n",
       "    <tr>\n",
       "      <th>unique</th>\n",
       "      <td>3.0</td>\n",
       "      <td>34</td>\n",
       "      <td>11</td>\n",
       "    </tr>\n",
       "    <tr>\n",
       "      <th>top</th>\n",
       "      <td>1.0</td>\n",
       "      <td>NG</td>\n",
       "      <td>GAS</td>\n",
       "    </tr>\n",
       "    <tr>\n",
       "      <th>freq</th>\n",
       "      <td>3233.0</td>\n",
       "      <td>1416</td>\n",
       "      <td>1408</td>\n",
       "    </tr>\n",
       "  </tbody>\n",
       "</table>\n",
       "</div>"
      ],
      "text/plain": [
       "        Combust  Fuel FuelCat\n",
       "count    5393.0  5364    5393\n",
       "unique      3.0    34      11\n",
       "top         1.0    NG     GAS\n",
       "freq     3233.0  1416    1408"
      ]
     },
     "execution_count": 16,
     "metadata": {},
     "output_type": "execute_result"
    }
   ],
   "source": [
    "df[['Combust', 'Fuel', 'FuelCat']].astype(\"object\").describe()"
   ]
  },
  {
   "cell_type": "markdown",
   "metadata": {},
   "source": [
    "**_Energy Generation:_**\n",
    "- Primary variables include nameplate capacity (MW), annual heat input (MMBtu), and annual net generation (MWh). \n",
    "- Note, An additional set of variables is included in the dataset corresponding to the net generation by each fuel type, in total constituting annual net generation by a plant."
   ]
  },
  {
   "cell_type": "code",
   "execution_count": 5,
   "metadata": {},
   "outputs": [
    {
     "data": {
      "text/html": [
       "<div>\n",
       "<style scoped>\n",
       "    .dataframe tbody tr th:only-of-type {\n",
       "        vertical-align: middle;\n",
       "    }\n",
       "\n",
       "    .dataframe tbody tr th {\n",
       "        vertical-align: top;\n",
       "    }\n",
       "\n",
       "    .dataframe thead th {\n",
       "        text-align: right;\n",
       "    }\n",
       "</style>\n",
       "<table border=\"1\" class=\"dataframe\">\n",
       "  <thead>\n",
       "    <tr style=\"text-align: right;\">\n",
       "      <th></th>\n",
       "      <th>Capacity</th>\n",
       "      <th>HeatInput</th>\n",
       "      <th>NetGen</th>\n",
       "    </tr>\n",
       "  </thead>\n",
       "  <tbody>\n",
       "    <tr>\n",
       "      <th>count</th>\n",
       "      <td>5393.000000</td>\n",
       "      <td>5.393000e+03</td>\n",
       "      <td>5.393000e+03</td>\n",
       "    </tr>\n",
       "    <tr>\n",
       "      <th>mean</th>\n",
       "      <td>207.852809</td>\n",
       "      <td>5.254938e+06</td>\n",
       "      <td>7.663237e+05</td>\n",
       "    </tr>\n",
       "    <tr>\n",
       "      <th>std</th>\n",
       "      <td>456.751711</td>\n",
       "      <td>1.858212e+07</td>\n",
       "      <td>2.398173e+06</td>\n",
       "    </tr>\n",
       "    <tr>\n",
       "      <th>min</th>\n",
       "      <td>1.000000</td>\n",
       "      <td>0.000000e+00</td>\n",
       "      <td>1.000000e+00</td>\n",
       "    </tr>\n",
       "    <tr>\n",
       "      <th>25%</th>\n",
       "      <td>5.500000</td>\n",
       "      <td>0.000000e+00</td>\n",
       "      <td>6.468000e+03</td>\n",
       "    </tr>\n",
       "    <tr>\n",
       "      <th>50%</th>\n",
       "      <td>28.800000</td>\n",
       "      <td>7.210000e+03</td>\n",
       "      <td>4.501400e+04</td>\n",
       "    </tr>\n",
       "    <tr>\n",
       "      <th>75%</th>\n",
       "      <td>145.200000</td>\n",
       "      <td>1.161249e+06</td>\n",
       "      <td>3.021750e+05</td>\n",
       "    </tr>\n",
       "    <tr>\n",
       "      <th>max</th>\n",
       "      <td>6809.000000</td>\n",
       "      <td>2.449650e+08</td>\n",
       "      <td>3.119994e+07</td>\n",
       "    </tr>\n",
       "  </tbody>\n",
       "</table>\n",
       "</div>"
      ],
      "text/plain": [
       "          Capacity     HeatInput        NetGen\n",
       "count  5393.000000  5.393000e+03  5.393000e+03\n",
       "mean    207.852809  5.254938e+06  7.663237e+05\n",
       "std     456.751711  1.858212e+07  2.398173e+06\n",
       "min       1.000000  0.000000e+00  1.000000e+00\n",
       "25%       5.500000  0.000000e+00  6.468000e+03\n",
       "50%      28.800000  7.210000e+03  4.501400e+04\n",
       "75%     145.200000  1.161249e+06  3.021750e+05\n",
       "max    6809.000000  2.449650e+08  3.119994e+07"
      ]
     },
     "execution_count": 5,
     "metadata": {},
     "output_type": "execute_result"
    }
   ],
   "source": [
    "df[['Capacity', 'HeatInput', 'NetGen']].describe()"
   ]
  },
  {
   "cell_type": "markdown",
   "metadata": {},
   "source": [
    "\n",
    "**_Emissions:_**\n",
    "- Primary variables include CO2 equivalent annual emission (Short Tons), NOx annual emission (Short Tons), SO2 annual emission (Short Tons)."
   ]
  },
  {
   "cell_type": "code",
   "execution_count": 14,
   "metadata": {},
   "outputs": [
    {
     "data": {
      "text/html": [
       "<div>\n",
       "<style scoped>\n",
       "    .dataframe tbody tr th:only-of-type {\n",
       "        vertical-align: middle;\n",
       "    }\n",
       "\n",
       "    .dataframe tbody tr th {\n",
       "        vertical-align: top;\n",
       "    }\n",
       "\n",
       "    .dataframe thead th {\n",
       "        text-align: right;\n",
       "    }\n",
       "</style>\n",
       "<table border=\"1\" class=\"dataframe\">\n",
       "  <thead>\n",
       "    <tr style=\"text-align: right;\">\n",
       "      <th></th>\n",
       "      <th>CO2</th>\n",
       "      <th>NOX</th>\n",
       "      <th>SO2</th>\n",
       "    </tr>\n",
       "  </thead>\n",
       "  <tbody>\n",
       "    <tr>\n",
       "      <th>count</th>\n",
       "      <td>5.393000e+03</td>\n",
       "      <td>5393.000000</td>\n",
       "      <td>5393.000000</td>\n",
       "    </tr>\n",
       "    <tr>\n",
       "      <th>mean</th>\n",
       "      <td>4.737505e+05</td>\n",
       "      <td>427.892412</td>\n",
       "      <td>1011.099905</td>\n",
       "    </tr>\n",
       "    <tr>\n",
       "      <th>std</th>\n",
       "      <td>1.880969e+06</td>\n",
       "      <td>1853.812913</td>\n",
       "      <td>5434.895068</td>\n",
       "    </tr>\n",
       "    <tr>\n",
       "      <th>min</th>\n",
       "      <td>0.000000e+00</td>\n",
       "      <td>0.000000</td>\n",
       "      <td>0.000000</td>\n",
       "    </tr>\n",
       "    <tr>\n",
       "      <th>25%</th>\n",
       "      <td>0.000000e+00</td>\n",
       "      <td>0.000000</td>\n",
       "      <td>0.000000</td>\n",
       "    </tr>\n",
       "    <tr>\n",
       "      <th>50%</th>\n",
       "      <td>7.760000e+01</td>\n",
       "      <td>0.580000</td>\n",
       "      <td>0.020000</td>\n",
       "    </tr>\n",
       "    <tr>\n",
       "      <th>75%</th>\n",
       "      <td>4.962120e+04</td>\n",
       "      <td>59.180000</td>\n",
       "      <td>2.770000</td>\n",
       "    </tr>\n",
       "    <tr>\n",
       "      <th>max</th>\n",
       "      <td>2.527186e+07</td>\n",
       "      <td>38837.060000</td>\n",
       "      <td>112951.180000</td>\n",
       "    </tr>\n",
       "  </tbody>\n",
       "</table>\n",
       "</div>"
      ],
      "text/plain": [
       "                CO2           NOX            SO2\n",
       "count  5.393000e+03   5393.000000    5393.000000\n",
       "mean   4.737505e+05    427.892412    1011.099905\n",
       "std    1.880969e+06   1853.812913    5434.895068\n",
       "min    0.000000e+00      0.000000       0.000000\n",
       "25%    0.000000e+00      0.000000       0.000000\n",
       "50%    7.760000e+01      0.580000       0.020000\n",
       "75%    4.962120e+04     59.180000       2.770000\n",
       "max    2.527186e+07  38837.060000  112951.180000"
      ]
     },
     "execution_count": 14,
     "metadata": {},
     "output_type": "execute_result"
    }
   ],
   "source": [
    "df[['CO2', 'NOX', 'SO2']].describe()"
   ]
  },
  {
   "cell_type": "code",
   "execution_count": null,
   "metadata": {},
   "outputs": [],
   "source": []
  }
 ],
 "metadata": {
  "kernelspec": {
   "display_name": "Python 3.7.0 64-bit",
   "language": "python",
   "name": "python3"
  },
  "language_info": {
   "codemirror_mode": {
    "name": "ipython",
    "version": 3
   },
   "file_extension": ".py",
   "mimetype": "text/x-python",
   "name": "python",
   "nbconvert_exporter": "python",
   "pygments_lexer": "ipython3",
   "version": "3.7.0"
  },
  "orig_nbformat": 4,
  "vscode": {
   "interpreter": {
    "hash": "aee8b7b246df8f9039afb4144a1f6fd8d2ca17a180786b69acc140d282b71a49"
   }
  }
 },
 "nbformat": 4,
 "nbformat_minor": 2
}
